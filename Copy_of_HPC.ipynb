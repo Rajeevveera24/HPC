{
  "nbformat": 4,
  "nbformat_minor": 0,
  "metadata": {
    "colab": {
      "name": "Copy of HPC.ipynb",
      "provenance": [],
      "collapsed_sections": []
    },
    "kernelspec": {
      "name": "python3",
      "display_name": "Python 3"
    },
    "accelerator": "GPU"
  },
  "cells": [
    {
      "cell_type": "code",
      "metadata": {
        "id": "dtSOCE4Tkk6B",
        "colab_type": "code",
        "outputId": "ce11236a-f0a9-4521-c0c3-c5540012da83",
        "colab": {
          "base_uri": "https://localhost:8080/",
          "height": 122
        }
      },
      "source": [
        "from google.colab import drive\n",
        "drive.mount('/content/drive')"
      ],
      "execution_count": 0,
      "outputs": [
        {
          "output_type": "stream",
          "text": [
            "Go to this URL in a browser: https://accounts.google.com/o/oauth2/auth?client_id=947318989803-6bn6qk8qdgf4n4g3pfee6491hc0brc4i.apps.googleusercontent.com&redirect_uri=urn%3aietf%3awg%3aoauth%3a2.0%3aoob&response_type=code&scope=email%20https%3a%2f%2fwww.googleapis.com%2fauth%2fdocs.test%20https%3a%2f%2fwww.googleapis.com%2fauth%2fdrive%20https%3a%2f%2fwww.googleapis.com%2fauth%2fdrive.photos.readonly%20https%3a%2f%2fwww.googleapis.com%2fauth%2fpeopleapi.readonly\n",
            "\n",
            "Enter your authorization code:\n",
            "··········\n",
            "Mounted at /content/drive\n"
          ],
          "name": "stdout"
        }
      ]
    },
    {
      "cell_type": "code",
      "metadata": {
        "id": "djLBymL2tDLR",
        "colab_type": "code",
        "outputId": "22cc961e-c67e-47d7-b15b-ddf761dc7c9b",
        "colab": {
          "base_uri": "https://localhost:8080/",
          "height": 80
        }
      },
      "source": [
        "import tensorflow as tf\n",
        "import numpy as np\n",
        "import keras \n",
        "from sklearn.utils import shuffle\n",
        "from sklearn.model_selection import train_test_split"
      ],
      "execution_count": 0,
      "outputs": [
        {
          "output_type": "display_data",
          "data": {
            "text/html": [
              "<p style=\"color: red;\">\n",
              "The default version of TensorFlow in Colab will soon switch to TensorFlow 2.x.<br>\n",
              "We recommend you <a href=\"https://www.tensorflow.org/guide/migrate\" target=\"_blank\">upgrade</a> now \n",
              "or ensure your notebook will continue to use TensorFlow 1.x via the <code>%tensorflow_version 1.x</code> magic:\n",
              "<a href=\"https://colab.research.google.com/notebooks/tensorflow_version.ipynb\" target=\"_blank\">more info</a>.</p>\n"
            ],
            "text/plain": [
              "<IPython.core.display.HTML object>"
            ]
          },
          "metadata": {
            "tags": []
          }
        },
        {
          "output_type": "stream",
          "text": [
            "Using TensorFlow backend.\n"
          ],
          "name": "stderr"
        }
      ]
    },
    {
      "cell_type": "code",
      "metadata": {
        "id": "SoWGU07tfZDI",
        "colab_type": "code",
        "colab": {}
      },
      "source": [
        "X = np.zeros((10000, 2))\n",
        "Y = np.zeros((10000, 1))"
      ],
      "execution_count": 0,
      "outputs": []
    },
    {
      "cell_type": "code",
      "metadata": {
        "id": "Y-qwlsgogaL7",
        "colab_type": "code",
        "outputId": "d33ed472-d01d-4d45-a7a4-807b7ad84332",
        "colab": {
          "base_uri": "https://localhost:8080/",
          "height": 34
        }
      },
      "source": [
        "def func(x):\n",
        "  return x**2 + 2*x + 3\n",
        "\n",
        "cnt = 0\n",
        "\n",
        "for i in range(-5000, 5000):\n",
        "  x = i / 5000\n",
        "  X[cnt] = x*x, x\n",
        "  y = func(x)\n",
        "  Y[cnt] = y\n",
        "  cnt += 1\n",
        "\n",
        "print(cnt)"
      ],
      "execution_count": 0,
      "outputs": [
        {
          "output_type": "stream",
          "text": [
            "10000\n"
          ],
          "name": "stdout"
        }
      ]
    },
    {
      "cell_type": "code",
      "metadata": {
        "id": "cnEcDqHYhnEH",
        "colab_type": "code",
        "colab": {}
      },
      "source": [
        "X_train, X_test, Y_train, Y_test = train_test_split(X, Y, test_size = 0.4)"
      ],
      "execution_count": 0,
      "outputs": []
    },
    {
      "cell_type": "code",
      "metadata": {
        "id": "_4mCKL3giDcS",
        "colab_type": "code",
        "colab": {}
      },
      "source": [
        "X_train, Y_train = shuffle(X_train, Y_train)\n",
        "X_test, Y_test = shuffle(X_test, Y_test)"
      ],
      "execution_count": 0,
      "outputs": []
    },
    {
      "cell_type": "code",
      "metadata": {
        "id": "6WMSAtZvOLm9",
        "colab_type": "code",
        "outputId": "1f054a02-91c0-40c7-804b-b60f524076de",
        "colab": {
          "base_uri": "https://localhost:8080/",
          "height": 136
        }
      },
      "source": [
        "print(Y_train)"
      ],
      "execution_count": 0,
      "outputs": [
        {
          "output_type": "stream",
          "text": [
            "[[5.326976  ]\n",
            " [3.071225  ]\n",
            " [2.357604  ]\n",
            " ...\n",
            " [2.36385024]\n",
            " [2.17825284]\n",
            " [3.26472516]]\n"
          ],
          "name": "stdout"
        }
      ]
    },
    {
      "cell_type": "code",
      "metadata": {
        "id": "XNr2CKJ-ObOA",
        "colab_type": "code",
        "outputId": "e2c3be2b-714b-484f-d2b3-b40e28fe54a8",
        "colab": {
          "base_uri": "https://localhost:8080/",
          "height": 136
        }
      },
      "source": [
        "print(X_train)"
      ],
      "execution_count": 0,
      "outputs": [
        {
          "output_type": "stream",
          "text": [
            "[[ 0.678976    0.824     ]\n",
            " [ 0.001225    0.035     ]\n",
            " [ 0.161604   -0.402     ]\n",
            " ...\n",
            " [ 0.15745024 -0.3968    ]\n",
            " [ 0.33385284 -0.5778    ]\n",
            " [ 0.01552516  0.1246    ]]\n"
          ],
          "name": "stdout"
        }
      ]
    },
    {
      "cell_type": "code",
      "metadata": {
        "id": "hncsyaKiiNjE",
        "colab_type": "code",
        "outputId": "41488287-7858-4928-fc14-bf8797e1fa01",
        "colab": {
          "base_uri": "https://localhost:8080/",
          "height": 105
        }
      },
      "source": [
        "model = keras.models.Sequential([\n",
        "    keras.layers.Dense(2),\n",
        "    # keras.layers.Dense(3, activation = 'tanh'),\n",
        "    # keras.layers.Dense(2, activation = 'tanh'),\n",
        "    keras.layers.Dense(1, activation = 'linear')\n",
        "])\n",
        "\n",
        "model.compile(loss='mean_squared_error', optimizer = 'sgd')"
      ],
      "execution_count": 0,
      "outputs": [
        {
          "output_type": "stream",
          "text": [
            "WARNING:tensorflow:From /usr/local/lib/python3.6/dist-packages/keras/backend/tensorflow_backend.py:66: The name tf.get_default_graph is deprecated. Please use tf.compat.v1.get_default_graph instead.\n",
            "\n",
            "WARNING:tensorflow:From /usr/local/lib/python3.6/dist-packages/keras/optimizers.py:793: The name tf.train.Optimizer is deprecated. Please use tf.compat.v1.train.Optimizer instead.\n",
            "\n"
          ],
          "name": "stdout"
        }
      ]
    },
    {
      "cell_type": "code",
      "metadata": {
        "id": "cHBqc7rYiaRW",
        "colab_type": "code",
        "outputId": "f86ff5f8-c542-4a2b-b487-76e5459f1c69",
        "colab": {
          "base_uri": "https://localhost:8080/",
          "height": 1000
        }
      },
      "source": [
        "H = model.fit(X_train, Y_train, epochs = 20)"
      ],
      "execution_count": 0,
      "outputs": [
        {
          "output_type": "stream",
          "text": [
            "WARNING:tensorflow:From /usr/local/lib/python3.6/dist-packages/keras/backend/tensorflow_backend.py:541: The name tf.placeholder is deprecated. Please use tf.compat.v1.placeholder instead.\n",
            "\n",
            "WARNING:tensorflow:From /usr/local/lib/python3.6/dist-packages/keras/backend/tensorflow_backend.py:4432: The name tf.random_uniform is deprecated. Please use tf.random.uniform instead.\n",
            "\n",
            "WARNING:tensorflow:From /usr/local/lib/python3.6/dist-packages/keras/backend/tensorflow_backend.py:1033: The name tf.assign_add is deprecated. Please use tf.compat.v1.assign_add instead.\n",
            "\n",
            "WARNING:tensorflow:From /usr/local/lib/python3.6/dist-packages/keras/backend/tensorflow_backend.py:1020: The name tf.assign is deprecated. Please use tf.compat.v1.assign instead.\n",
            "\n",
            "WARNING:tensorflow:From /usr/local/lib/python3.6/dist-packages/keras/backend/tensorflow_backend.py:3005: The name tf.Session is deprecated. Please use tf.compat.v1.Session instead.\n",
            "\n",
            "Epoch 1/20\n",
            "WARNING:tensorflow:From /usr/local/lib/python3.6/dist-packages/keras/backend/tensorflow_backend.py:190: The name tf.get_default_session is deprecated. Please use tf.compat.v1.get_default_session instead.\n",
            "\n",
            "WARNING:tensorflow:From /usr/local/lib/python3.6/dist-packages/keras/backend/tensorflow_backend.py:197: The name tf.ConfigProto is deprecated. Please use tf.compat.v1.ConfigProto instead.\n",
            "\n",
            "WARNING:tensorflow:From /usr/local/lib/python3.6/dist-packages/keras/backend/tensorflow_backend.py:207: The name tf.global_variables is deprecated. Please use tf.compat.v1.global_variables instead.\n",
            "\n",
            "WARNING:tensorflow:From /usr/local/lib/python3.6/dist-packages/keras/backend/tensorflow_backend.py:216: The name tf.is_variable_initialized is deprecated. Please use tf.compat.v1.is_variable_initialized instead.\n",
            "\n",
            "WARNING:tensorflow:From /usr/local/lib/python3.6/dist-packages/keras/backend/tensorflow_backend.py:223: The name tf.variables_initializer is deprecated. Please use tf.compat.v1.variables_initializer instead.\n",
            "\n",
            "6000/6000 [==============================] - 9s 1ms/step - loss: 0.4416\n",
            "Epoch 2/20\n",
            "6000/6000 [==============================] - 1s 83us/step - loss: 0.0019\n",
            "Epoch 3/20\n",
            "6000/6000 [==============================] - 1s 93us/step - loss: 7.7576e-05\n",
            "Epoch 4/20\n",
            "6000/6000 [==============================] - 1s 86us/step - loss: 3.1732e-06\n",
            "Epoch 5/20\n",
            "6000/6000 [==============================] - 1s 97us/step - loss: 1.2901e-07\n",
            "Epoch 6/20\n",
            "6000/6000 [==============================] - 1s 87us/step - loss: 5.2585e-09\n",
            "Epoch 7/20\n",
            "6000/6000 [==============================] - 1s 101us/step - loss: 2.1992e-10\n",
            "Epoch 8/20\n",
            "6000/6000 [==============================] - 1s 94us/step - loss: 1.7772e-11\n",
            "Epoch 9/20\n",
            "6000/6000 [==============================] - 1s 94us/step - loss: 1.1074e-11\n",
            "Epoch 10/20\n",
            "6000/6000 [==============================] - 1s 84us/step - loss: 9.8898e-12\n",
            "Epoch 11/20\n",
            "6000/6000 [==============================] - 1s 89us/step - loss: 8.8139e-12\n",
            "Epoch 12/20\n",
            "6000/6000 [==============================] - 1s 99us/step - loss: 7.7351e-12\n",
            "Epoch 13/20\n",
            "6000/6000 [==============================] - 1s 97us/step - loss: 7.1688e-12\n",
            "Epoch 14/20\n",
            "6000/6000 [==============================] - 1s 99us/step - loss: 6.9267e-12\n",
            "Epoch 15/20\n",
            "6000/6000 [==============================] - 0s 83us/step - loss: 6.7623e-12\n",
            "Epoch 16/20\n",
            "6000/6000 [==============================] - 0s 81us/step - loss: 6.7967e-12\n",
            "Epoch 17/20\n",
            "6000/6000 [==============================] - 1s 85us/step - loss: 6.7111e-12\n",
            "Epoch 18/20\n",
            "6000/6000 [==============================] - 1s 92us/step - loss: 6.5016e-12\n",
            "Epoch 19/20\n",
            "6000/6000 [==============================] - 1s 103us/step - loss: 6.4447e-12\n",
            "Epoch 20/20\n",
            "6000/6000 [==============================] - 1s 99us/step - loss: 6.4236e-12\n"
          ],
          "name": "stdout"
        }
      ]
    },
    {
      "cell_type": "code",
      "metadata": {
        "id": "dL_-bp_ojCbM",
        "colab_type": "code",
        "outputId": "faa58fc2-9a68-417c-d03f-f67b2340340b",
        "colab": {
          "base_uri": "https://localhost:8080/",
          "height": 34
        }
      },
      "source": [
        "model.predict(np.array([[4, 2]]))"
      ],
      "execution_count": 0,
      "outputs": [
        {
          "output_type": "execute_result",
          "data": {
            "text/plain": [
              "array([[11.000031]], dtype=float32)"
            ]
          },
          "metadata": {
            "tags": []
          },
          "execution_count": 11
        }
      ]
    },
    {
      "cell_type": "code",
      "metadata": {
        "id": "dQ9eEchlkbAp",
        "colab_type": "code",
        "outputId": "a1cb1217-b265-4fe8-a565-9e017a06a1ea",
        "colab": {
          "base_uri": "https://localhost:8080/",
          "height": 51
        }
      },
      "source": [
        "model.evaluate(X_test, Y_test)"
      ],
      "execution_count": 0,
      "outputs": [
        {
          "output_type": "stream",
          "text": [
            "4000/4000 [==============================] - 0s 47us/step\n"
          ],
          "name": "stdout"
        },
        {
          "output_type": "execute_result",
          "data": {
            "text/plain": [
              "6.826567755524593e-12"
            ]
          },
          "metadata": {
            "tags": []
          },
          "execution_count": 12
        }
      ]
    }
  ]
}